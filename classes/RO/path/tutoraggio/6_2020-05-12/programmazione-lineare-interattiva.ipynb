{
 "cells": [
  {
   "cell_type": "markdown",
   "metadata": {},
   "source": [
    "# Programmazione Lineare con una libreria interattiva\n",
    "\n",
    "Codice di partenza: https://hubpages.com/technology/Simplex-Algorithm-in-Python"
   ]
  },
  {
   "cell_type": "code",
   "execution_count": 2,
   "metadata": {},
   "outputs": [],
   "source": [
    "import simplesso_interattivo as s"
   ]
  },
  {
   "cell_type": "code",
   "execution_count": 3,
   "metadata": {},
   "outputs": [
    {
     "name": "stdout",
     "output_type": "stream",
     "text": [
      "xB\tx1\tx2\tx3\tx4\tx5\tx6\tb\n",
      "x4\t2\t1\t1\t1\t0\t0\t4\n",
      "x5\t1\t2\t1\t0\t1\t0\t7\n",
      "x6\t0\t0\t1\t0\t0\t1\t5\n",
      "c.c.r.\t2\t3\t2\t0\t0\t0\t0\n",
      "Soluzione di base = (0, 0, 0, 4, 7, 5)\n",
      "Funzione obiettivo = 0\n"
     ]
    }
   ],
   "source": [
    "# Problema in forma standard di massimizzazione:\n",
    "# max cx\n",
    "# Ax <= b\n",
    "# x >= 0\n",
    "# Example\n",
    "# max z = 2x1 + 3x2 + 2x3\n",
    "# t.c.\n",
    "# 2x1 + x2 + x3 <= 4\n",
    "# x1 + 2x2 + x3 <= 7\n",
    "# x3          <= 5\n",
    "# x1, x2, x3 >= 0\n",
    "c = [2,3,2]\n",
    "b = [4,7,5]\n",
    "A = [[2,1,1], [1,2,1], [0,0,1]]\n",
    "\n",
    "t = s.Tableau(c,'max') # funzione obiettivo e tipologia di problema (sono consentiti 'max' e 'min')\n",
    "# Vincoli\n",
    "for i in range(len(A)):\n",
    "    t.aggiungi_vincolo(A[i],b[i])\n",
    "t.crea_primo_tableau()\n",
    "t.mostra_tableau()"
   ]
  },
  {
   "cell_type": "code",
   "execution_count": 4,
   "metadata": {},
   "outputs": [
    {
     "name": "stdout",
     "output_type": "stream",
     "text": [
      "\n",
      "Iterazione 1\n",
      "Elemento pivot a[2][2] = 2\n",
      "Variabile entrante: x2\n",
      "Variabile uscente: x5\n",
      "xB\tx1\tx2\tx3\tx4\tx5\tx6\tb\n",
      "x4\t3/2\t0\t1/2\t1\t-1/2\t0\t1/2\n",
      "x2\t1/2\t1\t1/2\t0\t1/2\t0\t7/2\n",
      "x6\t0\t0\t1\t0\t0\t1\t5\n",
      "c.c.r.\t1/2\t0\t1/2\t0\t-3/2\t0\t-21/2\n",
      "Soluzione di base = (0, 7/2, 0, 1/2, 0, 5)\n",
      "Funzione obiettivo = 21/2\n",
      "\n",
      "Iterazione 2\n",
      "Elemento pivot a[1][1] = 3/2\n",
      "Variabile entrante: x1\n",
      "Variabile uscente: x4\n",
      "xB\tx1\tx2\tx3\tx4\tx5\tx6\tb\n",
      "x1\t1\t0\t1/3\t2/3\t-1/3\t0\t1/3\n",
      "x2\t0\t1\t1/3\t-1/3\t2/3\t0\t10/3\n",
      "x6\t0\t0\t1\t0\t0\t1\t5\n",
      "c.c.r.\t0\t0\t1/3\t-1/3\t-4/3\t0\t-32/3\n",
      "Soluzione di base = (1/3, 10/3, 0, 0, 0, 5)\n",
      "Funzione obiettivo = 32/3\n",
      "\n",
      "Iterazione 3\n",
      "Elemento pivot a[1][3] = 1/3\n",
      "Variabile entrante: x3\n",
      "Variabile uscente: x1\n",
      "xB\tx1\tx2\tx3\tx4\tx5\tx6\tb\n",
      "x3\t3\t0\t1\t2\t-1\t0\t1\n",
      "x2\t-1\t1\t0\t-1\t1\t0\t3\n",
      "x6\t-3\t0\t0\t-2\t1\t1\t4\n",
      "c.c.r.\t-1\t0\t0\t-1\t-1\t0\t-11\n",
      "Soluzione di base = (0, 3, 1, 0, 0, 4)\n",
      "Funzione obiettivo = 11\n"
     ]
    }
   ],
   "source": [
    "# Fase 2 (simplesso primale)\n",
    "# questo algoritmo trova una soluzione di base ottima se prende avvio da una soluzione di base ammissibile\n",
    "nb_iter = 1\n",
    "while not t.is_optimal():\n",
    "    print('\\nIterazione ' + str(nb_iter))\n",
    "    t.step_primale()\n",
    "    t.mostra_tableau()\n",
    "    nb_iter += 1"
   ]
  },
  {
   "cell_type": "code",
   "execution_count": 5,
   "metadata": {},
   "outputs": [],
   "source": [
    "# Problema: max z = 2x1 + 3x2 + 2x3\n",
    "# t.c.\n",
    "# 2x1 + x2 + x3 <= 4\n",
    "# x1 + 2x2 + x3 <= 6\n",
    "# x3          <= 8\n",
    "# x1, x2, x3 >= 0\n",
    "c = [2,3,2]\n",
    "b = [4,7,5]\n",
    "A = [[2,1,1], [1,2,1], [0,0,1]]\n",
    "\n",
    "t = s.Tableau(c,'max') # funzione obiettivo\n",
    "for i in range(len(A)): # vincoli\n",
    "    t.aggiungi_vincolo(A[i],b[i])"
   ]
  },
  {
   "cell_type": "code",
   "execution_count": 6,
   "metadata": {},
   "outputs": [
    {
     "name": "stdout",
     "output_type": "stream",
     "text": [
      "xB\tx1\tx2\tx3\tx4\tx5\tx6\tb\n",
      "x4\t2\t1\t1\t1\t0\t0\t4\n",
      "x5\t1\t2\t1\t0\t1\t0\t7\n",
      "x6\t0\t0\t1\t0\t0\t1\t5\n",
      "c.c.r.\t2\t3\t2\t0\t0\t0\t0\n",
      "Soluzione di base = (0, 0, 0, 4, 7, 5)\n",
      "Funzione obiettivo = 0\n"
     ]
    }
   ],
   "source": [
    "# Metodo 2 (interattivo) - Lo studente è libero di usare le funzioni seguenti:\n",
    "# t.crea_primo_tableau()\n",
    "# t.mostra_tableau()\n",
    "# t.stampa_soluzione_base_corrente()\n",
    "# t.is_optimal()\n",
    "# t.is_feasible()\n",
    "# t.step_primale()\n",
    "# t.step_duale()\n",
    "# t.pivot_colonna_riga()\n",
    "# t.prossimo_step()\n",
    "\n",
    "t.crea_primo_tableau()\n",
    "t.mostra_tableau()"
   ]
  },
  {
   "cell_type": "code",
   "execution_count": 7,
   "metadata": {},
   "outputs": [
    {
     "name": "stdout",
     "output_type": "stream",
     "text": [
      "Elemento pivot a[2][2] = 2\n",
      "Variabile entrante: x2\n",
      "Variabile uscente: x5\n",
      "xB\tx1\tx2\tx3\tx4\tx5\tx6\tb\n",
      "x4\t3/2\t0\t1/2\t1\t-1/2\t0\t1/2\n",
      "x2\t1/2\t1\t1/2\t0\t1/2\t0\t7/2\n",
      "x6\t0\t0\t1\t0\t0\t1\t5\n",
      "c.c.r.\t1/2\t0\t1/2\t0\t-3/2\t0\t-21/2\n",
      "Soluzione di base = (0, 7/2, 0, 1/2, 0, 5)\n",
      "Funzione obiettivo = 21/2\n"
     ]
    }
   ],
   "source": [
    "# pivot_colonna_riga riceve due parametri:\n",
    "# c - indice di colonna\n",
    "# r - indice di riga\n",
    "# Per capire quali cifre inserire si guarda il tableau, contando righe e colonne da zero\n",
    "# In questo caso voglio fare entrare x2 (= colonna 2) e per la regola dei rapporti minimi uscirà x5 (= riga 2)\n",
    "t.pivot_colonna_riga(2,2)\n",
    "t.mostra_tableau()"
   ]
  },
  {
   "cell_type": "code",
   "execution_count": 8,
   "metadata": {},
   "outputs": [
    {
     "name": "stdout",
     "output_type": "stream",
     "text": [
      "Soluzione di base = (0, 7/2, 0, 1/2, 0, 5)\n",
      "Funzione obiettivo = 21/2\n"
     ]
    }
   ],
   "source": [
    "t.stampa_soluzione_base_corrente()"
   ]
  },
  {
   "cell_type": "code",
   "execution_count": 9,
   "metadata": {},
   "outputs": [
    {
     "name": "stdout",
     "output_type": "stream",
     "text": [
      "Soluzione di base = (0, 7/2, 0, 1/2, 0, 5)\n",
      "Funzione obiettivo = 21/2\n",
      "Tale soluzione è ammissibile ma NON è ottima -> Continua con il simplesso primale\n"
     ]
    }
   ],
   "source": [
    "t.prossimo_step()"
   ]
  },
  {
   "cell_type": "code",
   "execution_count": 10,
   "metadata": {},
   "outputs": [
    {
     "name": "stdout",
     "output_type": "stream",
     "text": [
      "Elemento pivot a[1][1] = 3/2\n",
      "Variabile entrante: x1\n",
      "Variabile uscente: x4\n",
      "xB\tx1\tx2\tx3\tx4\tx5\tx6\tb\n",
      "x1\t1\t0\t1/3\t2/3\t-1/3\t0\t1/3\n",
      "x2\t0\t1\t1/3\t-1/3\t2/3\t0\t10/3\n",
      "x6\t0\t0\t1\t0\t0\t1\t5\n",
      "c.c.r.\t0\t0\t1/3\t-1/3\t-4/3\t0\t-32/3\n",
      "Soluzione di base = (1/3, 10/3, 0, 0, 0, 5)\n",
      "Funzione obiettivo = 32/3\n"
     ]
    }
   ],
   "source": [
    "t.pivot_colonna_riga(1,1)\n",
    "t.mostra_tableau()"
   ]
  },
  {
   "cell_type": "code",
   "execution_count": 11,
   "metadata": {},
   "outputs": [
    {
     "data": {
      "text/plain": [
       "False"
      ]
     },
     "execution_count": 11,
     "metadata": {},
     "output_type": "execute_result"
    }
   ],
   "source": [
    "t.is_optimal()"
   ]
  },
  {
   "cell_type": "code",
   "execution_count": 15,
   "metadata": {},
   "outputs": [
    {
     "name": "stdout",
     "output_type": "stream",
     "text": [
      "Elemento pivot a[1][3] = 1\n",
      "Variabile entrante: x3\n",
      "Variabile uscente: x3\n",
      "xB\tx1\tx2\tx3\tx4\tx5\tx6\tb\n",
      "x3\t3\t0\t1\t2\t-1\t0\t1\n",
      "x2\t-1\t1\t0\t-1\t1\t0\t3\n",
      "x6\t-3\t0\t0\t-2\t1\t1\t4\n",
      "c.c.r.\t-1\t0\t0\t-1\t-1\t0\t-11\n",
      "Soluzione di base = (0, 3, 1, 0, 0, 4)\n",
      "Funzione obiettivo = 11\n"
     ]
    }
   ],
   "source": [
    "t.pivot_colonna_riga(3,1)\n",
    "t.mostra_tableau()"
   ]
  },
  {
   "cell_type": "code",
   "execution_count": 13,
   "metadata": {},
   "outputs": [
    {
     "name": "stdout",
     "output_type": "stream",
     "text": [
      "Soluzione di base = (0, 3, 1, 0, 0, 4)\n",
      "Funzione obiettivo = 11\n",
      "Tale soluzione è ammissibile e ottima -> Fine\n"
     ]
    }
   ],
   "source": [
    "t.prossimo_step()"
   ]
  },
  {
   "cell_type": "code",
   "execution_count": 16,
   "metadata": {},
   "outputs": [],
   "source": [
    "# Problema non a origine ammissibile\n",
    "\n",
    "# Problema: max z = -2x1 - x2 - 2x3\n",
    "# t.c.\n",
    "# 2x1 -x2 +2x3 <= -4\n",
    "# x1 + 2x2 + x3 <= 6\n",
    "# x3          <= 8\n",
    "# x1, x2, x3 >= 0\n",
    "c = [-2,-1,-2]\n",
    "b = [-4,6,8]\n",
    "A = [[2,-1,2], [1,2,1], [0,0,1]]\n",
    "\n",
    "t = s.Tableau(c,'max') # funzione obiettivo\n",
    "for i in range(len(A)): # vincoli\n",
    "    t.aggiungi_vincolo(A[i],b[i])"
   ]
  },
  {
   "cell_type": "code",
   "execution_count": 17,
   "metadata": {},
   "outputs": [
    {
     "name": "stdout",
     "output_type": "stream",
     "text": [
      "xB\tx1\tx2\tx3\tx4\tx5\tx6\tb\n",
      "x4\t2\t-1\t2\t1\t0\t0\t-4\n",
      "x5\t1\t2\t1\t0\t1\t0\t6\n",
      "x6\t0\t0\t1\t0\t0\t1\t8\n",
      "c.c.r.\t-2\t-1\t-2\t0\t0\t0\t0\n",
      "Soluzione di base = (0, 0, 0, -4, 6, 8)\n",
      "Funzione obiettivo = 0\n"
     ]
    }
   ],
   "source": [
    "t.crea_primo_tableau()\n",
    "t.mostra_tableau()"
   ]
  },
  {
   "cell_type": "code",
   "execution_count": 18,
   "metadata": {},
   "outputs": [
    {
     "name": "stdout",
     "output_type": "stream",
     "text": [
      "Soluzione di base = (0, 0, 0, -4, 6, 8)\n",
      "Funzione obiettivo = 0\n",
      "Tale soluzione NON è ammissibile ma soddisfa le condizioni di ottimalità -> Continua con il simplesso duale\n"
     ]
    }
   ],
   "source": [
    "t.prossimo_step()"
   ]
  },
  {
   "cell_type": "code",
   "execution_count": 19,
   "metadata": {},
   "outputs": [
    {
     "name": "stdout",
     "output_type": "stream",
     "text": [
      "Iterazione con il simplesso duale\n",
      "Elemento pivot a[1][2] = -1\n",
      "Variabile entrante: x2\n",
      "Variabile uscente: x4\n",
      "xB\tx1\tx2\tx3\tx4\tx5\tx6\tb\n",
      "x2\t-2\t1\t-2\t-1\t0\t0\t4\n",
      "x5\t5\t0\t5\t2\t1\t0\t-2\n",
      "x6\t0\t0\t1\t0\t0\t1\t8\n",
      "c.c.r.\t-4\t0\t-4\t-1\t0\t0\t4\n",
      "Soluzione di base = (0, 4, 0, 0, -2, 8)\n",
      "Funzione obiettivo = -4\n"
     ]
    }
   ],
   "source": [
    "t.step_duale()\n",
    "t.mostra_tableau()"
   ]
  },
  {
   "cell_type": "code",
   "execution_count": 20,
   "metadata": {},
   "outputs": [
    {
     "name": "stdout",
     "output_type": "stream",
     "text": [
      "Soluzione di base = (0, 4, 0, 0, -2, 8)\n",
      "Funzione obiettivo = -4\n",
      "Tale soluzione NON è ammissibile ma soddisfa le condizioni di ottimalità -> Continua con il simplesso duale\n"
     ]
    }
   ],
   "source": [
    "t.prossimo_step()"
   ]
  },
  {
   "cell_type": "code",
   "execution_count": 21,
   "metadata": {},
   "outputs": [
    {
     "name": "stdout",
     "output_type": "stream",
     "text": [
      "Iterazione con il simplesso duale\n",
      "Il duale è illimitato -> Il primale è impossibile -> Fine\n",
      "xB\tx1\tx2\tx3\tx4\tx5\tx6\tb\n",
      "x2\t-2\t1\t-2\t-1\t0\t0\t4\n",
      "x5\t5\t0\t5\t2\t1\t0\t-2\n",
      "x6\t0\t0\t1\t0\t0\t1\t8\n",
      "c.c.r.\t-4\t0\t-4\t-1\t0\t0\t4\n",
      "Soluzione di base = (0, 4, 0, 0, -2, 8)\n",
      "Funzione obiettivo = -4\n"
     ]
    }
   ],
   "source": [
    "t.step_duale()\n",
    "t.mostra_tableau()"
   ]
  },
  {
   "cell_type": "code",
   "execution_count": null,
   "metadata": {},
   "outputs": [],
   "source": []
  }
 ],
 "metadata": {
  "kernelspec": {
   "display_name": "Python 2",
   "language": "python",
   "name": "python2"
  },
  "language_info": {
   "codemirror_mode": {
    "name": "ipython",
    "version": 2
   },
   "file_extension": ".py",
   "mimetype": "text/x-python",
   "name": "python",
   "nbconvert_exporter": "python",
   "pygments_lexer": "ipython2",
   "version": "2.7.15"
  }
 },
 "nbformat": 4,
 "nbformat_minor": 2
}
