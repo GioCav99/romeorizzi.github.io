{
 "cells": [
  {
   "cell_type": "code",
   "execution_count": 3,
   "metadata": {},
   "outputs": [],
   "source": [
    "import numpy as np"
   ]
  },
  {
   "cell_type": "code",
   "execution_count": 162,
   "metadata": {},
   "outputs": [
    {
     "name": "stdout",
     "output_type": "stream",
     "text": [
      "Stringa 1:\tGAMMAMUOMICRON\n",
      "Stringa 2:\tBETAGAMMAPHI\n",
      "15 13\n",
      "Tabella L: \n",
      "[[0. 0. 0. 0. 0. 0. 0. 0. 0. 0. 0. 0. 0.]\n",
      " [0. 0. 0. 0. 0. 1. 1. 1. 1. 1. 1. 1. 1.]\n",
      " [0. 0. 0. 0. 1. 1. 2. 2. 2. 2. 2. 2. 2.]\n",
      " [0. 0. 0. 0. 1. 1. 2. 3. 3. 3. 3. 3. 3.]\n",
      " [0. 0. 0. 0. 1. 1. 2. 3. 4. 4. 4. 4. 4.]\n",
      " [0. 0. 0. 0. 1. 1. 2. 3. 4. 5. 5. 5. 5.]\n",
      " [0. 0. 0. 0. 1. 1. 2. 3. 4. 5. 5. 5. 5.]\n",
      " [0. 0. 0. 0. 1. 1. 2. 3. 4. 5. 5. 5. 5.]\n",
      " [0. 0. 0. 0. 1. 1. 2. 3. 4. 5. 5. 5. 5.]\n",
      " [0. 0. 0. 0. 1. 1. 2. 3. 4. 5. 5. 5. 5.]\n",
      " [0. 0. 0. 0. 1. 1. 2. 3. 4. 5. 5. 5. 6.]\n",
      " [0. 0. 0. 0. 1. 1. 2. 3. 4. 5. 5. 5. 6.]\n",
      " [0. 0. 0. 0. 1. 1. 2. 3. 4. 5. 5. 5. 6.]\n",
      " [0. 0. 0. 0. 1. 1. 2. 3. 4. 5. 5. 5. 6.]\n",
      " [0. 0. 0. 0. 1. 1. 2. 3. 4. 5. 5. 5. 6.]]\n",
      "Lunghezza massima sottosequenza comune: 6\n",
      "LCS of GAMMAMUOMICRON and BETAGAMMAPHI is GAMMAI\n"
     ]
    }
   ],
   "source": [
    "# Esercizio 1 - Massima sottosequenza comune (Longest Common Subsequence, i.e., LCS)\n",
    "\n",
    "def LCS(string1, string2):\n",
    "    s = ' ' + string1 # Aggiungiamo il carattere vuoto sia a s sia a t\n",
    "    t = ' ' + string2\n",
    "    n = len(s)\n",
    "    m = len(t)\n",
    "    # Costruiamo una tabella n x m\n",
    "    L = np.zeros((n, m)) # Modo 1 per inizializzare una matrice di tutti zeri\n",
    "\n",
    "    for i in range(1,n):\n",
    "        for j in range(1,m):\n",
    "            if s[i] == t[j]: # Match\n",
    "                L[i][j] = L[i-1][j-1] + 1\n",
    "            else: # Consideriamo il massimo tra i risultati delle celle (i-1,j) e (i,j-1), che abbiamo già risolto\n",
    "                L[i][j] = max(L[i-1][j], L[i][j-1]) \n",
    "\n",
    "    print(\"Tabella L: \\n\" + str(L))\n",
    "    print(\"Lunghezza massima sottosequenza comune: %d\" % np.max(L))\n",
    "    \n",
    "    lcs = \"\"\n",
    "    # A partire dall'ultima cella in basso a destra, risaliamo nella tabella seguendo i match avvenuti\n",
    "    # e recuperando un carattere alla volta la massima sottosequenza comune \n",
    "    i = n-1\n",
    "    j = m-1\n",
    "    while i > 0 and j > 0: \n",
    "        if s[i] == t[j]: # match\n",
    "            lcs = s[i] + lcs\n",
    "            i-=1\n",
    "            j-=1\n",
    "        elif L[i-1][j] > L[i][j-1]: # Non c'è match in (i,j) e si è arrivati dalla cella sopra (i-1,j)\n",
    "            i-=1\n",
    "        else: # Non c'è match e si è arrivati dalla cella a sinistra (i,j-1)\n",
    "            j-=1\n",
    "    print \"LCS of \" + string1 + \" and \" + string2 + \" is \" + lcs\n",
    "\n",
    "\n",
    "# Stringhe iniziali\n",
    "s = \"GAMMAMUOMICRON\"\n",
    "t = \"BETAGAMMAPHI\"\n",
    "\n",
    "print(\"Stringa 1:\\t%s\" % s)\n",
    "print(\"Stringa 2:\\t%s\" % t)\n",
    "LCS(s, t)"
   ]
  },
  {
   "cell_type": "code",
   "execution_count": null,
   "metadata": {},
   "outputs": [],
   "source": [
    "# Esercizio 2 - Campo minato / Percorsi robot\n",
    "\n",
    "# Questo l'abbiamo visto a esercitazione: provate voi a implementarlo ;)"
   ]
  },
  {
   "cell_type": "code",
   "execution_count": 124,
   "metadata": {},
   "outputs": [
    {
     "name": "stdout",
     "output_type": "stream",
     "text": [
      "Pesi = [0, 7, 9, 6, 8, 2]\n",
      "Valori = [0, 19, 40, 32, 44, 75]\n",
      "\n",
      "Valore zaino con n = 5 oggetti e capacità 42:\n",
      "210\n"
     ]
    }
   ],
   "source": [
    "# Esercizio 3 - Problema dello Zaino\n",
    "\n",
    "def zaino(pesi, valori, MAX_CAP):\n",
    "    # Creiamo una matrice n x (MAX_CAP+1) per salvare i risultati dei sottoproblemi\n",
    "    n = len(pesi)\n",
    "    S = [[0 for j in range(MAX_CAP+1)] for i in range(n)] # Modo 2 per inizializzare una matrice di tutti zeri\n",
    "    #print S\n",
    "    \n",
    "    for i in range(1,n): # i è l'elemento i-esimo dell'insieme di oggetti disponibili\n",
    "        for j in range(MAX_CAP+1): # j è la capacità dello zaino\n",
    "            S[i][j] = S[i-1][j]\n",
    "            # Assumiamo che il valore massimo della soluzione di V[i, j] sia almeno il valore di V[i-1][j]\n",
    "            # cioè il sottoproblema con lo zaino avente la stessa capacità e il sottoinsieme di elementi da 1 a i-1\n",
    "            # A ogni sottoproblema, ci chiediamo se possiamo inserire l'elemento: se sì, perché il peso lo consente,\n",
    "            # sarebbe conveniente farlo oppure meglio non inserirlo proprio?\n",
    "            if pesi[i] <= j and S[i-1][j-pesi[i]] + valori[i] > S[i][j]:\n",
    "                S[i][j] = S[i-1][j-pesi[i]] + valori[i]\n",
    "    return S\n",
    "\n",
    "n = 5\n",
    "MAX_CAP = np.random.randint(30, 50)\n",
    "m = MAX_CAP\n",
    "pesi = [0] + list(np.random.randint(0, 10, n)) # così pesi e valori contengono già l'elemento nullo\n",
    "valori = [0] + list(np.random.randint(0, 100, n))\n",
    "print \"Pesi = \" + str(pesi)\n",
    "print \"Valori = \" + str(valori)\n",
    "print \"\\nValore zaino con n = \" + str(n) + \" oggetti e capacità \" + str(MAX_CAP) + \":\\n\" + str(zaino(pesi, valori, MAX_CAP)[n][m])"
   ]
  },
  {
   "cell_type": "code",
   "execution_count": 165,
   "metadata": {},
   "outputs": [],
   "source": [
    "# Esercizio 4 - Sottosequenza (contigua) con massima somma\n",
    "\n",
    "# Data una sequenza di numeri reali, individuare la sottosequenza di elementi contigui per cui la loro somma sia massima.\n",
    "# Esempi:\n",
    "# L1 = [3, 12, -3, -7, 12, 4, -32, 20, 5, -10, 10] --> S1 = [20, 5] con somma 25\n",
    "# L2 = [22, -10, 45, -8, 2] --> S2 = [22, -10, 45] con somma 57\n",
    "\n",
    "# Questo NON l'abbiamo visto a esercitazione:\n",
    "# provate voi sia a trovare la ricorrenza sia a implementarlo ;)"
   ]
  },
  {
   "cell_type": "code",
   "execution_count": null,
   "metadata": {},
   "outputs": [],
   "source": [
    "# Esercizio 5 - La dieta di Poldo\n",
    "\n",
    "# Il dottore ordina a Poldo di seguire una dieta. Ad ogni pasto non può mai mangiare un panino che abbia\n",
    "# un peso maggiore o uguale a quello appena mangiato. Quando Poldo passeggia per la via del suo paese,\n",
    "# da ogni ristorante esce un cameriere proponendo il menù del giorno. Ciascun menù è composto da una serie di panini,\n",
    "# che verranno serviti in un ordine ben definito, e dal peso di ciascun panino. Poldo, per non violare la regola della\n",
    "# sua dieta, una volta scelto un menù, può decidere di mangiare o rifiutare un panino; se lo rifiuta il cameriere\n",
    "# gli servirà il successivo e quello rifiutato non gli sarà più servito.\n",
    "# Si deve scrivere un programma che permetta a Poldo, leggendo un menù, di capire qual è il numero massimo di panini\n",
    "# che può mangiare per quel menù senza violare la regola della sua dieta.\n",
    "# Riassumendo, Poldo può mangiare un panino se e solo se soddisfa una delle due condizioni:\n",
    "# - Il panino è il primo che mangia in un determinato pasto;\n",
    "# - Il panino non ha un peso maggiore o uguale all’ultimo panino che ha mangiato in un determinato pasto.\n",
    "\n",
    "# Esempio:\n",
    "# L = [5, 3, 6, 7, 5, 3] --> Numero panini che può mangiare Poldo: 3, con [6, 5, 3] oppure [7, 5, 3]\n",
    "\n",
    "# Questo NON l'abbiamo visto a esercitazione ed è anche presente sul CMS:\n",
    "# provate voi sia a trovare la ricorrenza sia a implementarlo ;)"
   ]
  }
 ],
 "metadata": {
  "kernelspec": {
   "display_name": "Python 2",
   "language": "python",
   "name": "python2"
  },
  "language_info": {
   "codemirror_mode": {
    "name": "ipython",
    "version": 2
   },
   "file_extension": ".py",
   "mimetype": "text/x-python",
   "name": "python",
   "nbconvert_exporter": "python",
   "pygments_lexer": "ipython2",
   "version": "2.7.15"
  }
 },
 "nbformat": 4,
 "nbformat_minor": 2
}
