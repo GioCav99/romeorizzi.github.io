{
 "cells": [
  {
   "cell_type": "markdown",
   "metadata": {},
   "source": [
    "# Programmazione Lineare con PuLP\n",
    "Link: https://www.coin-or.org/PuLP/pulp.html"
   ]
  },
  {
   "cell_type": "markdown",
   "metadata": {},
   "source": [
    "# 1) Problema astratto\n",
    "Minimizzare  z = 3x + 5y <br>\n",
    "tale che <br>\n",
    "2x + 3y >= 12<br>\n",
    "-x + y <= 3<br>\n",
    "x >= 4<br>\n",
    "y <= 3<br>\n",
    "x, y >= 0<br>\n",
    "\n",
    "__Richieste__:<br>\n",
    "1) Rappresentare i vincoli nel piano cartesiano<br>\n",
    "2) Trovare la soluzione ottima del problema sfruttando la libreria PuLP"
   ]
  },
  {
   "cell_type": "markdown",
   "metadata": {},
   "source": [
    "___Soluzione___<br>\n",
    "\n",
    "__1) Rappresentare i vincoli nel piano cartesiano__<br>"
   ]
  },
  {
   "cell_type": "code",
   "execution_count": null,
   "metadata": {},
   "outputs": [],
   "source": [
    "import numpy as np\n",
    "import matplotlib.pyplot as plt\n",
    "%matplotlib inline\n",
    "\n",
    "# Rappresentiamo le rette\n",
    "# x >=4\n",
    "x = np.linspace(4, 20, 2000)\n",
    "# 2x + 3y >= 12\n",
    "y1 = -2*x/3 + 4\n",
    "# -x + y <= 3\n",
    "y2 = x + 3\n",
    "# y <= 3\n",
    "y3 = x*0 + 3\n",
    "\n",
    "# Facciamone il plot\n",
    "plt.plot(x, y1, label=r'$2x + 3y \\geq 4$')\n",
    "plt.plot(x, y2, label=r'$-x + y \\leq 3$')\n",
    "plt.plot(x, y3, label=r'$y \\leq 3$')\n",
    "plt.xlim((4, 10)) # Definiamo i limiti dell'asse delle ascisse\n",
    "plt.ylim((0, 11)) # Idem per le ordinate\n",
    "plt.xlabel(r'$x$')\n",
    "plt.ylabel(r'$y$')\n",
    "plt.legend(bbox_to_anchor=(1.05, 1), loc=2, borderaxespad=0.) # Aggiungiamo la legenda"
   ]
  },
  {
   "cell_type": "markdown",
   "metadata": {},
   "source": [
    "__2) Trovare la soluzione ottima del problema sfruttando la libreria PuLP__<br>"
   ]
  },
  {
   "cell_type": "code",
   "execution_count": null,
   "metadata": {},
   "outputs": [],
   "source": [
    "import pulp as p\n",
    "# Creiamo un problema di PL (o LP, Linear Programming)\n",
    "prob_astr = p.LpProblem('Astratto', p.LpMinimize)\n",
    "\n",
    "# Variabili di decisione\n",
    "x = p.LpVariable('x', lowBound=4)\n",
    "y = p.LpVariable('y', lowBound=0, upBound=3)\n",
    "\n",
    "# Vincoli\n",
    "prob_astr += 2*x + 3*y >= 12\n",
    "prob_astr += -x + y <= 3\n",
    "\n",
    "# Funzione obiettivo\n",
    "prob_astr += 3*x + 5*y\n",
    "\n",
    "# Visualizziamo il problema\n",
    "print(prob_astr) \n",
    "\n",
    "# Risolviamo il problema\n",
    "status = prob_astr.solve() \n",
    "print(p.LpStatus[status]) # Per mostrare lo status del solver\n",
    "  \n",
    "# Stampiamo la soluzione finale\n",
    "print(p.value(x), p.value(y), p.value(prob_astr.objective))"
   ]
  },
  {
   "cell_type": "markdown",
   "metadata": {},
   "source": [
    "# 2) TE 06/02/2014 - Es. 1\n",
    "\n",
    "L'azienda elettrica senese deve soddisfare il fabbisogno di tre centri abitati che richiedono almeno\n",
    "giornalmente la seguente quantità di energia (in MW):\n",
    "<img src=\"te-20140206-es1-tab1.png\" width=\"300\">\n",
    "\n",
    "I tre centri possono essere riforniti da due centrali C1 e C2, aventi capacità giornaliera di 130 e 310 MW rispettivamente.<br>\n",
    "Trasportare corrente elettrica da una centrale a un centro costa come indicato nella seguente tabella (Euro/KW)\n",
    "<img src=\"te-20140206-es1-tab2.png\" width=\"300\">\n",
    "\n",
    "Si consideri il problema di minimizzare il costo totale di trasporto dell'energia ai centri\n",
    "abitati, nel caso in cui ogni linea elettrica abbia una capacità massima di 120 MW.\n",
    "\n",
    "___Richieste___:<br>\n",
    "1) Fornire un modello di PL per tale problema specifico.<br>\n",
    "2) Qual è la soluzione ottima del problema? Risolverlo sfruttando la libreria PuLP."
   ]
  },
  {
   "cell_type": "markdown",
   "metadata": {},
   "source": [
    "___Soluzione___<br><br>\n",
    "__1) Fornire un modello di PL per tale problema.__<br>\n",
    "È necessario individuare:<br>\n",
    "a) Variabili di decisione;<br>\n",
    "b) Vincoli;<br>\n",
    "c) Funzione obiettivo.<br>\n",
    "\n",
    "__a) Variabili di decisione__:<br>\n",
    "Ci interessa capire quanti MW saranno forniti da ogni centrale a ogni centro abitato, quindi avremo bisogno di 3x2 = 6 variabili che rappresentino le linee elettrice:<br>\n",
    "x<sub>Murlo,C1</sub>, x<sub>Murlo,C2</sub>, x<sub>Monti,C1</sub>, x<sub>Monti,C2</sub>, x<sub>SRocco,C1</sub> e x<sub>SRocco,C2</sub><br>\n",
    "\n",
    "__b) Vincoli__:<br>\n",
    "Tutte le variabili sono non negative: $x_{i,j} \\ge 0$ <br>\n",
    "\n",
    "Ogni linea elettrica ha una capacità massima di 120 MW: x<sub>i,j</sub> $\\le$ 120 <br>\n",
    "\n",
    "Le centrali hanno capacità giornaliera limitata:<br>\n",
    "$x_{Murlo,C1} + x_{Monti,C1} + x_{SRocco,C1} \\le 130$<br>\n",
    "$x_{Murlo,C2} + x_{Monti,C2} + x_{SRocco,C2} \\le 310$<br>\n",
    "\n",
    "Ogni centro abitato ha un requisito specifico giornaliero:<br>\n",
    "$x_{Murlo,C1} + x_{Murlo,C2} \\ge 150$<br>\n",
    "$x_{Monti,C1} + x_{Monti,C2} \\ge 80$<br>\n",
    "$x_{SRocco,C1} + x_{SRocco,C2} \\ge 210$<br>\n",
    "\n",
    "__c) Funzione obiettivo__:<br>\n",
    "Minimizzare il costo totale dei MW trasportati (occhio alle unità di misura!):<br>\n",
    "$10000x_{Murlo,C1} + 15000x_{Monti,C1} + 20000x_{SRocco,C1} + 8000x_{Murlo,C2} + 14000x_{Monti,C2} + 7000x_{Monti,C2}$<br>\n",
    "\n",
    "\n",
    "__2) Qual è la soluzione ottima del problema? Risolverlo sfruttando la libreria PuLP.__<br>\n",
    "Per importare e sfruttare la libreria PuLP, dovete prima averla scaricata e installata.<br>\n",
    "Link: https://pypi.org/project/PuLP/\n"
   ]
  },
  {
   "cell_type": "code",
   "execution_count": null,
   "metadata": {},
   "outputs": [],
   "source": [
    "import pulp as p\n",
    "\n",
    "# Creiamo un problema di PL (o LP, Linear Programming)\n",
    "probLP = p.LpProblem('Problem', p.LpMinimize)  \n",
    "  \n",
    "# Creiamo le variabili di decisione\n",
    "# (usiamo indici numerici invece delle lettere: i = 1,2,3 per i centri abitati; j = 1,2 per le centrali)\n",
    "x11 = p.LpVariable(\"x11\", lowBound = 0, upBound = 120)\n",
    "x12 = p.LpVariable(\"x12\", lowBound = 0, upBound = 120)\n",
    "x21 = p.LpVariable(\"x21\", lowBound = 0, upBound = 120)\n",
    "x22 = p.LpVariable(\"x22\", lowBound = 0, upBound = 120)\n",
    "x31 = p.LpVariable(\"x31\", lowBound = 0, upBound = 120)\n",
    "x32 = p.LpVariable(\"x32\", lowBound = 0, upBound = 120) \n",
    "  \n",
    "# Aggiungiamo i vincoli: \n",
    "probLP += x11 + x21 + x31 <= 130 # Capacità giornaliera C1\n",
    "probLP += x12 + x22 + x32 <= 310 # Capacità giornaliera C2\n",
    "probLP += x11 + x12 >= 150 # Richiesta Centro abitato 1\n",
    "probLP += x21 + x22 >= 80 # Richiesta Centro abitato 2\n",
    "probLP += x31 + x32 >= 210 # Richiesta Centro abitato 3\n",
    "  \n",
    "# Infine la funzione obiettivo:\n",
    "probLP += 10000*x11 + 15000*x21 + 20000*x31 + 8000*x12 + 14000*x22 + 7000*x32  \n",
    "  \n",
    "# Visualizziamo il problema\n",
    "print(probLP) \n",
    "\n",
    "# Risolviamo il problema\n",
    "status = probLP.solve() \n",
    "print(p.LpStatus[status]) # Per mostrare lo status del solver\n",
    "  \n",
    "# Stampiamo la soluzione finale\n",
    "print(p.value(x11), p.value(x12), p.value(x21), p.value(x22), p.value(x31), p.value(x32), p.value(probLP.objective))"
   ]
  },
  {
   "cell_type": "markdown",
   "metadata": {},
   "source": [
    "__Possibili status del solver:__<br>\n",
    "- _Optimal_: il solver ha trovato la soluzione ottima;\n",
    "- _Not Solved_: è il valore di default prima che il problema venga risolto;\n",
    "- _Infeasible_: il problema è impossibile;\n",
    "- _Unbounded_: la funzione obiettivo è illimitata;\n",
    "- _Undefined_: PuLP non sa come interpretare il risultato del solver o una soluzione ammissibile non è stata trovata (ma potrebbe esistere).<br>\n"
   ]
  },
  {
   "cell_type": "markdown",
   "metadata": {},
   "source": [
    "# 3) PoltronaSofà\n",
    "\n",
    "Fonte: https://github.com/Gabeqb/Linear-Programming-With-Python<br>\n",
    "\n",
    "L'azienda PoltronaSofà vuole sapere quanti prodotti dovrebbe realizzare ogni mese per massimizzare il proprio profitto.<br>\n",
    "PoltronaSofà fabbrica tre prodotti principali: divani, sofà e sedie. La capacità di produzione è la seguente:\n",
    "<img src=\"es3-tab1.png\" width=\"300\">\n",
    "L'azienda deve pagare ogni mese 75000 euro che includono 1540 ore di lavoro.\n",
    "\n",
    "Ogni prodotto viene venduto al prezzo seguente:\n",
    "<img src=\"es3-tab2.png\" width=\"300\">\n",
    "\n",
    "Ma ogni pezzo ha anche il seguente costo di produzione:\n",
    "<img src=\"es3-tab3.png\" width=\"300\">\n",
    "\n",
    "La produzione è legata anche ai materiali disponibili e alle ore necessarie per le fasi di lavorazione:<br>\n",
    "<img src=\"es3-tab4.png\" width=\"500\">\n",
    "\n",
    "___Richiesta___:<br>\n",
    "Risolvere il problema sfruttando la libreria PuLP."
   ]
  },
  {
   "cell_type": "code",
   "execution_count": null,
   "metadata": {},
   "outputs": [],
   "source": [
    "poltr = p.LpProblem('PoltronaSofa', p.LpMaximize)\n",
    "\n",
    "# Variabili\n",
    "x1 = p.LpVariable('x_Divani', lowBound=0, upBound=125)\n",
    "x2 = p.LpVariable('x_Sofa', lowBound=0, upBound=200)\n",
    "x3 = p.LpVariable('x_Sedie', lowBound=0, upBound=400)\n",
    "\n",
    "# Vincoli\n",
    "poltr += 2*x1 + x2 + 2*x3 <= 500 # Legno\n",
    "poltr += 2*x1 + 2*x2 <= 2280 # Pelle\n",
    "poltr += 0.4*x1 + 0.2*x2 + 0.1*x3 <= 480 # Verniciatura\n",
    "poltr += 0.75*x1 + 0.5*x2 + 0.25*x3 <= 400 # Sabbiatura\n",
    "poltr += 1.5*x1 + x2 + 0.25*x3 <= 660 # Montaggio\n",
    "\n",
    "# Funzione obiettivo: massimizziamo il guadagno (ricavi - costi)\n",
    "poltr += (700-100)*x1 + (400-50)*x2 + (100-20)*x3 - 75000\n",
    "\n",
    "# Visualizziamo il problema\n",
    "print(poltr) \n",
    "\n",
    "# Risolviamo il problema\n",
    "status = poltr.solve() \n",
    "print(p.LpStatus[status]) # Per mostrare lo status del solver\n",
    "  \n",
    "# Stampiamo la soluzione finale\n",
    "print(p.value(x1), p.value(x2), p.value(x3), p.value(poltr.objective))"
   ]
  },
  {
   "cell_type": "code",
   "execution_count": null,
   "metadata": {},
   "outputs": [],
   "source": []
  }
 ],
 "metadata": {
  "kernelspec": {
   "display_name": "Python 2",
   "language": "python",
   "name": "python2"
  },
  "language_info": {
   "codemirror_mode": {
    "name": "ipython",
    "version": 2
   },
   "file_extension": ".py",
   "mimetype": "text/x-python",
   "name": "python",
   "nbconvert_exporter": "python",
   "pygments_lexer": "ipython2",
   "version": "2.7.15"
  }
 },
 "nbformat": 4,
 "nbformat_minor": 2
}
