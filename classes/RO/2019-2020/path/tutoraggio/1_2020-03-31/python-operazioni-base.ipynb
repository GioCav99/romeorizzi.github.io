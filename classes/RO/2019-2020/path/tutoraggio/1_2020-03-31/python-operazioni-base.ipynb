{
 "cells": [
  {
   "cell_type": "code",
   "execution_count": 1,
   "metadata": {},
   "outputs": [],
   "source": [
    "# OPERAZIONI BASE IN PYTHON"
   ]
  },
  {
   "cell_type": "code",
   "execution_count": 2,
   "metadata": {},
   "outputs": [
    {
     "name": "stdout",
     "output_type": "stream",
     "text": [
      "-----------------------------\n",
      "Concatenazioni\n",
      "\n",
      "Hello world\n",
      "Hello 3.14\n",
      "\n"
     ]
    }
   ],
   "source": [
    "# Concatenazione di stringhe e altri oggetti\n",
    "print \"-----------------------------\"\n",
    "print \"Concatenazioni\\n\"\n",
    "s1 = \"Hello \"\n",
    "s2 = \"world\"\n",
    "print s1 + s2\n",
    "\n",
    "n3 = 3.14\n",
    "print s1 + str(n3) + \"\\n\""
   ]
  },
  {
   "cell_type": "code",
   "execution_count": 2,
   "metadata": {},
   "outputs": [
    {
     "name": "stdout",
     "output_type": "stream",
     "text": [
      "-----------------------------\n",
      "Liste\n",
      "\n",
      "[1, 2, 3]\n",
      "list1 = [1, 2, 3]\n"
     ]
    }
   ],
   "source": [
    "# Liste\n",
    "print \"-----------------------------\"\n",
    "print \"Liste\\n\"\n",
    "list1 = [1,2,3]\n",
    "print list1\n",
    "print \"list1 = \" + str(list1)"
   ]
  },
  {
   "cell_type": "code",
   "execution_count": 3,
   "metadata": {},
   "outputs": [
    {
     "name": "stdout",
     "output_type": "stream",
     "text": [
      "list2 = [1, 2, 3]\n",
      "Lunghezza: len(list2) = 3\n",
      "Concatenazione: [1,2,3] + [4,5,6] = [1, 2, 3, 4, 5, 6]\n",
      "Ripetizione: ['Ciao!'] * 4 = ['Ciao!', 'Ciao!', 'Ciao!', 'Ciao!']\n",
      "Appartenenza: 3 in [1,2,3] = True\n"
     ]
    }
   ],
   "source": [
    "list2 = []\n",
    "list2.append(1)\n",
    "list2.append(2)\n",
    "list2.append(3)\n",
    "\n",
    "print \"list2 = \" + str(list2)\n",
    "print \"Lunghezza: len(list2) = \" + str(len(list2))\n",
    "print \"Concatenazione: [1,2,3] + [4,5,6] = \" + str([1,2,3] + [4,5,6])\n",
    "print \"Ripetizione: ['Ciao!'] * 4 = \" + str(['Ciao!'] * 4)\n",
    "print \"Appartenenza: 3 in [1,2,3] = \" + str(3 in [1,2,3])"
   ]
  },
  {
   "cell_type": "code",
   "execution_count": 4,
   "metadata": {},
   "outputs": [
    {
     "name": "stdout",
     "output_type": "stream",
     "text": [
      "Iterazione: for x in list2:\n",
      "1\n",
      "2\n",
      "3\n"
     ]
    }
   ],
   "source": [
    "print \"Iterazione: for x in list2:\"\n",
    "for x in list2:\n",
    "    print x"
   ]
  },
  {
   "cell_type": "code",
   "execution_count": 5,
   "metadata": {},
   "outputs": [
    {
     "name": "stdout",
     "output_type": "stream",
     "text": [
      "list3 = [0, 1, 2]\n"
     ]
    }
   ],
   "source": [
    "n = 3\n",
    "list3 = []\n",
    "for i in range(n): # diverso da range[1,n+1) che va da 1 a n\n",
    "    list3.append(i)\n",
    "print \"list3 = \" + str(list3)"
   ]
  },
  {
   "cell_type": "code",
   "execution_count": 6,
   "metadata": {},
   "outputs": [
    {
     "data": {
      "text/plain": [
       "2"
      ]
     },
     "execution_count": 6,
     "metadata": {},
     "output_type": "execute_result"
    }
   ],
   "source": [
    "list3[2]"
   ]
  },
  {
   "cell_type": "code",
   "execution_count": 7,
   "metadata": {},
   "outputs": [
    {
     "name": "stdout",
     "output_type": "stream",
     "text": [
      "Indexing con numeri negativi (si conta da destra): list3[-1] = 2\n",
      "Pezzi di lista: list1[1:] = [2, 3]\n"
     ]
    }
   ],
   "source": [
    "print \"Indexing con numeri negativi (si conta da destra): list3[-1] = \" + str(list3[-1])\n",
    "print \"Pezzi di lista: list1[1:] = \" + str(list1[1:])"
   ]
  },
  {
   "cell_type": "code",
   "execution_count": 8,
   "metadata": {},
   "outputs": [
    {
     "name": "stdout",
     "output_type": "stream",
     "text": [
      "[1, 2, 17]\n"
     ]
    }
   ],
   "source": [
    "list1[2] = 17\n",
    "print str(list1)"
   ]
  },
  {
   "cell_type": "code",
   "execution_count": 9,
   "metadata": {},
   "outputs": [
    {
     "name": "stdout",
     "output_type": "stream",
     "text": [
      "-----------------------------\n",
      "Tuple\n",
      "\n",
      "t1 = (1, 2, 3)\n",
      "Gli elementi di una tupla sono racchiusi tra parentesi ( ) e non possono essere aggiornati -> Liste in sola lettura\n"
     ]
    }
   ],
   "source": [
    "# Tuple\n",
    "print \"-----------------------------\"\n",
    "print \"Tuple\\n\"\n",
    "\n",
    "t1 = (1,2,3)\n",
    "print \"t1 = \" + str(t1)\n",
    "print \"Gli elementi di una tupla sono racchiusi tra parentesi ( ) e non possono essere aggiornati\" + \\\n",
    "    \" -> Liste in sola lettura\""
   ]
  },
  {
   "cell_type": "code",
   "execution_count": 10,
   "metadata": {
    "scrolled": true
   },
   "outputs": [
    {
     "name": "stdout",
     "output_type": "stream",
     "text": [
      "-----------------------------\n",
      "Matrici\n",
      "type(a) = <type 'list'>\n",
      "type(b) = <type 'list'>\n"
     ]
    }
   ],
   "source": [
    "# Matrici\n",
    "print \"-----------------------------\"\n",
    "print \"Matrici\"\n",
    "\n",
    "# a è una matrice 2-D \n",
    "a = [['Roy',80,75,85,90,95],\n",
    "     ['John',75,80,75,85,100],\n",
    "     ['Dave',80,80,80,90,95]]\n",
    "print \"type(a) = \" + str(type(a))\n",
    "\n",
    "#b è una lista innestata, ma non una matrice\n",
    "b= [['Roy',80,75,85,90,95],\n",
    "    ['John',75,80,75],\n",
    "    ['Dave',80,80,80,90,95]]\n",
    "print \"type(b) = \" + str(type(b))"
   ]
  },
  {
   "cell_type": "code",
   "execution_count": 11,
   "metadata": {},
   "outputs": [
    {
     "name": "stdout",
     "output_type": "stream",
     "text": [
      "m1 = \n",
      "[[0, 0, 0, 0, 0], [0, 0, 0, 0, 0], [0, 0, 0, 0, 0], 0]\n"
     ]
    }
   ],
   "source": [
    "num_righe = 5\n",
    "num_colonne = 4\n",
    "m1 = [0] * num_colonne\n",
    "for i in range(n):\n",
    "    m1[i] = [0] * num_righe\n",
    "print \"m1 = \"\n",
    "print str(m1)"
   ]
  },
  {
   "cell_type": "code",
   "execution_count": 13,
   "metadata": {},
   "outputs": [
    {
     "name": "stdout",
     "output_type": "stream",
     "text": [
      "[[0, 0, 0, 0], [0, 0, 0, 0], [0, 0, 0, 0], [0, 0, 0, 0], [0, 0, 0, 0]]\n"
     ]
    }
   ],
   "source": [
    "m = [[0 for y in range(num_colonne)] for x in range(num_righe)]\n",
    "print str(m)"
   ]
  },
  {
   "cell_type": "code",
   "execution_count": 14,
   "metadata": {},
   "outputs": [
    {
     "name": "stdout",
     "output_type": "stream",
     "text": [
      "m = \n",
      "[0, 0, 0, 0]\n",
      "[0, 0, 0, 0]\n",
      "[0, 0, 0, 0]\n",
      "[0, 0, 0, 0]\n",
      "[0, 0, 0, 0]\n"
     ]
    }
   ],
   "source": [
    "print \"m = \"\n",
    "for i in range(num_righe):\n",
    "    print m[i]"
   ]
  },
  {
   "cell_type": "code",
   "execution_count": 15,
   "metadata": {},
   "outputs": [
    {
     "name": "stdout",
     "output_type": "stream",
     "text": [
      "Aggiungo [1,2,3,4,5] a m usando l'operatore +\n",
      "[[0, 0, 0, 0], [0, 0, 0, 0], [0, 0, 0, 0], [0, 0, 0, 0], [0, 0, 0, 0], [1, 2, 3, 4, 5]]\n"
     ]
    }
   ],
   "source": [
    "m += [[1,2,3,4,5]]\n",
    "print \"Aggiungo [1,2,3,4,5] a m usando l'operatore +\\n\" + str(m)"
   ]
  },
  {
   "cell_type": "code",
   "execution_count": 16,
   "metadata": {},
   "outputs": [
    {
     "name": "stdout",
     "output_type": "stream",
     "text": [
      "Rimuovo [1,2,3,4,5] da m usando del m[index]\n",
      "[[0, 0, 0, 0], [0, 0, 0, 0], [0, 0, 0, 0], [0, 0, 0, 0], [0, 0, 0, 0]]\n"
     ]
    }
   ],
   "source": [
    "del m[len(m)-1]\n",
    "print \"Rimuovo [1,2,3,4,5] da m usando del m[index]\\n\" + str(m)"
   ]
  },
  {
   "cell_type": "code",
   "execution_count": 17,
   "metadata": {},
   "outputs": [
    {
     "name": "stdout",
     "output_type": "stream",
     "text": [
      "-----------------------------\n",
      "Funzioni\n",
      "\n",
      "Definire le funzioni prima di chiamarle, usando la keyword def function_name(param-list):\n",
      "\n",
      "All'interno della funzione:\n",
      "param1 = 10\n",
      "param2 = 5\n",
      "fun1(param1, param2) = 15\n",
      "p1 = 4\n",
      "p2 = 5\n"
     ]
    }
   ],
   "source": [
    "# Funzioni\n",
    "print \"-----------------------------\"\n",
    "print \"Funzioni\\n\"\n",
    "print \"Definire le funzioni prima di chiamarle, usando la keyword def function_name(param-list):\\n\"\n",
    "def fun1(param1, param2):\n",
    "    print \"All'interno della funzione:\"\n",
    "    param1 = 2*param2\n",
    "    print \"param1 = \" + str(param1)\n",
    "    print \"param2 = \" + str(param2)\n",
    "    return param1 + param2\n",
    "\n",
    "p1 = 4\n",
    "p2 = 5\n",
    "print \"fun1(param1, param2) = \" + str(fun1(p1, p2))\n",
    "print \"p1 = \" + str(p1)\n",
    "print \"p2 = \" + str(p2)"
   ]
  },
  {
   "cell_type": "code",
   "execution_count": 19,
   "metadata": {},
   "outputs": [
    {
     "name": "stdout",
     "output_type": "stream",
     "text": [
      "list4 prima della funzione = [1, 2, 3]\n",
      "All'interno della funzione:\n",
      "add55toList = [1, 2, 3, 60]\n",
      "list4 dopo la funzione = [1, 2, 3, 60]\n"
     ]
    }
   ],
   "source": [
    "def add55toList(param1):\n",
    "    n1 = 5\n",
    "    print \"All'interno della funzione:\"\n",
    "    param1 += [55 + n1]\n",
    "    return param1\n",
    "\n",
    "list4 = [1, 2, 3]\n",
    "print \"list4 prima della funzione = \" + str(list4)\n",
    "print \"add55toList = \" + str(add55toList(list4))\n",
    "print \"list4 dopo la funzione = \" + str(list4)"
   ]
  },
  {
   "cell_type": "code",
   "execution_count": 21,
   "metadata": {},
   "outputs": [
    {
     "name": "stdout",
     "output_type": "stream",
     "text": [
      "NB: il passaggio dei parametri è fatto per riferimento e non per valore (attenzione soprattutto a liste e vettori!)\n",
      "Valori di default: def fun2(param1=10, param2=5) = 50\n",
      "fun2(15,30) = 450\n"
     ]
    }
   ],
   "source": [
    "print \"NB: il passaggio dei parametri è fatto per riferimento e non per valore (attenzione soprattutto a liste e vettori!)\"\n",
    "def fun2(param1=10, param2=5):\n",
    "    return param1 * param2\n",
    "\n",
    "print \"Valori di default: def fun2(param1=10, param2=5) = \" + str(fun2())\n",
    "print \"fun2(15,30) = \" + str(fun2(15,30))"
   ]
  },
  {
   "cell_type": "code",
   "execution_count": null,
   "metadata": {},
   "outputs": [],
   "source": []
  }
 ],
 "metadata": {
  "kernelspec": {
   "display_name": "Python 2",
   "language": "python",
   "name": "python2"
  },
  "language_info": {
   "codemirror_mode": {
    "name": "ipython",
    "version": 2
   },
   "file_extension": ".py",
   "mimetype": "text/x-python",
   "name": "python",
   "nbconvert_exporter": "python",
   "pygments_lexer": "ipython2",
   "version": "2.7.15"
  }
 },
 "nbformat": 4,
 "nbformat_minor": 2
}
